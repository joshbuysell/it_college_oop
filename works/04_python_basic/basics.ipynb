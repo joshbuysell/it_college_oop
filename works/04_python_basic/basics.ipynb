{
 "cells": [
  {
   "cell_type": "markdown",
   "id": "eac2af01",
   "metadata": {},
   "source": [
    "# Основи програмування на Python\n",
    "## Основні конструкції в Python"
   ]
  },
  {
   "cell_type": "markdown",
   "id": "85d95289",
   "metadata": {},
   "source": [
    "### 1. Типи даних\n",
    "Познайомимось з основними типами даних: str, int, float, list, dict, tuple, set."
   ]
  },
  {
   "cell_type": "code",
   "execution_count": null,
   "id": "a76fb477",
   "metadata": {},
   "outputs": [],
   "source": [
    "a = 'змінна з текстом'\n",
    "b = 1 # числова змінна\n",
    "b1 = 1.1\n",
    "c = ['a', 1, 1.25, 'Слово', a] # List\n",
    "d = {'a': 'Слово', 'b': 1, a: b} # Dict\n",
    "e = ('a', a) # Tuple\n",
    "f = {'ss', a + str(b)} # Set\n",
    "print(a, b, b1, c, d, e, f)"
   ]
  },
  {
   "cell_type": "markdown",
   "id": "d5d86720",
   "metadata": {},
   "source": [
    "### 2. Вбудовані константи"
   ]
  },
  {
   "cell_type": "code",
   "execution_count": null,
   "id": "a107a5eb",
   "metadata": {},
   "outputs": [],
   "source": [
    "print('Перша константа:', True)\n",
    "print(f'Друга константа: {None}')\n",
    "print(f'Третя константа: {False}')"
   ]
  },
  {
   "cell_type": "markdown",
   "id": "5f2a10ef",
   "metadata": {},
   "source": [
    "### 3. Вбудовані функції"
   ]
  },
  {
   "cell_type": "code",
   "execution_count": null,
   "id": "99c62585",
   "metadata": {},
   "outputs": [],
   "source": [
    "print(abs(-12.5), f'є рівним {abs(12.5)}')\n",
    "print(len([1,2,3,4]))\n",
    "print(type(123))"
   ]
  },
  {
   "cell_type": "markdown",
   "id": "70561c7e",
   "metadata": {},
   "source": [
    "### 4. Цикли"
   ]
  },
  {
   "cell_type": "code",
   "execution_count": null,
   "id": "f49e7828",
   "metadata": {},
   "outputs": [],
   "source": [
    "letters = ['a', 'b', 'c']\n",
    "for i in range(len(letters)):\n",
    "    print(f'На позиції {i} знаходиться буква {letters[i]}')\n",
    "for x in range(3):\n",
    "    print('Цикл for, x=', x)"
   ]
  },
  {
   "cell_type": "markdown",
   "id": "f4b324b8",
   "metadata": {},
   "source": [
    "### 5. Розгалуження"
   ]
  },
  {
   "cell_type": "code",
   "execution_count": null,
   "id": "0973bc5b",
   "metadata": {},
   "outputs": [],
   "source": [
    "A = True\n",
    "print('Значить А=True' if A else 'Значить А=False')\n",
    "num = 5\n",
    "if num > 0:\n",
    "    print('Число додатнє')\n",
    "else:\n",
    "    print('Число не додатнє')"
   ]
  },
  {
   "cell_type": "markdown",
   "id": "57f3fa3b",
   "metadata": {},
   "source": [
    "### 6. try-except-finally"
   ]
  },
  {
   "cell_type": "code",
   "execution_count": null,
   "id": "a84ffef7",
   "metadata": {},
   "outputs": [],
   "source": [
    "A = 0\n",
    "try:\n",
    "    print('Що буде якщо', 10/A, '?')\n",
    "except Exception as e:\n",
    "    print(e)\n",
    "finally:\n",
    "    print('А вот воно що!')"
   ]
  },
  {
   "cell_type": "markdown",
   "id": "e335ddb4",
   "metadata": {},
   "source": [
    "### 7. Контекст-менеджер with"
   ]
  },
  {
   "cell_type": "code",
   "execution_count": null,
   "id": "65c45111",
   "metadata": {},
   "outputs": [],
   "source": [
    "with open('README.md', 'r', encoding='utf-8') as f:\n",
    "    for line in f:\n",
    "        print(line.strip())"
   ]
  },
  {
   "cell_type": "markdown",
   "id": "d40997be",
   "metadata": {},
   "source": [
    "### 8. Lambda"
   ]
  },
  {
   "cell_type": "code",
   "execution_count": null,
   "id": "bfc39012",
   "metadata": {},
   "outputs": [],
   "source": [
    "this_is_lambda = lambda first, last: f'Цей код написав: {first} {last}'\n",
    "print('Це просто функція:', this_is_lambda)\n",
    "print('Це її виклик:', this_is_lambda('Віктор', 'Цвик'))"
   ]
  },
  {
   "cell_type": "markdown",
   "id": "7ee305ec",
   "metadata": {},
   "source": [
    "### 9. Відповідь ChatGPT про основи Python\n",
    "> Python — це мова програмування, яка відома своєю простотою та читабельністю. Основні конструкції включають змінні, типи даних, оператори, цикли, умовні оператори, функції та роботу з файлами. Ось приклад простої програми:"
   ]
  },
  {
   "cell_type": "code",
   "execution_count": null,
   "id": "4e13ada5",
   "metadata": {},
   "outputs": [],
   "source": [
    "name = input('Введіть ваше ім'я: ')\n",
    "print(f'Привіт, {name}!')"
   ]
  }
 ],
 "metadata": {
  "language_info": {
   "name": "python"
  }
 },
 "nbformat": 4,
 "nbformat_minor": 5
}
