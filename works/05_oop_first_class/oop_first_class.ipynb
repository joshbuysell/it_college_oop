{
 "cells": [
  {
   "cell_type": "markdown",
   "id": "e1c08c0e",
   "metadata": {},
   "source": [
    "# Знайомство з ООП у Python\n",
    "## Основи створення класу, атрибути, методи, властивості, індивідуальні завдання."
   ]
  },
  {
   "cell_type": "markdown",
   "id": "741b8738",
   "metadata": {},
   "source": [
    "### Клас MyName (з усіма модифікаціями)"
   ]
  },
  {
   "cell_type": "code",
   "execution_count": null,
   "id": "85aad2ac",
   "metadata": {},
   "outputs": [],
   "source": [
    "class MyName:\n",
    "    \"\"\"Опис класу / Документація\"\"\"\n",
    "    total_names = 0  # Class Variable\n",
    "\n",
    "    def __init__(self, name=None, domain=\"itcollege.lviv.ua\"):\n",
    "        if name is None:\n",
    "            name = self.anonymous_user().name\n",
    "        if not name.isalpha():\n",
    "            raise ValueError(\"Ім'я може містити лише літери!\")\n",
    "        self.name = name.capitalize()\n",
    "        self.domain = domain\n",
    "        MyName.total_names += 1\n",
    "        self.my_id = MyName.total_names\n",
    "\n",
    "    @property\n",
    "    def whoami(self) -> str:\n",
    "        return f\"My name is {self.name}\"\n",
    "\n",
    "    @property\n",
    "    def my_email(self) -> str:\n",
    "        return self.create_email()\n",
    "\n",
    "    def create_email(self) -> str:\n",
    "        return f\"{self.name.lower()}@{self.domain}\"\n",
    "\n",
    "    @classmethod\n",
    "    def anonymous_user(cls):\n",
    "        return cls(\"Anonymous\")\n",
    "\n",
    "    @staticmethod\n",
    "    def say_hello(message=\"Hello to everyone!\") -> str:\n",
    "        return f\"You say: {message}\"\n",
    "\n",
    "    @property\n",
    "    def full_name(self) -> str:\n",
    "        return f\"User #{self.my_id}: {self.name} ({self.my_email})\"\n",
    "\n",
    "    def count_letters(self) -> int:\n",
    "        return len(self.name)\n",
    "\n",
    "    def save_to_file(self, filename=\"users.txt\"):\n",
    "        with open(filename, \"a\", encoding=\"utf-8\") as f:\n",
    "            f.write(self.full_name + \"\\n\")"
   ]
  },
  {
   "cell_type": "markdown",
   "id": "7cbf0ee5",
   "metadata": {},
   "source": [
    "### Демонстрація роботи класу та відповіді на питання"
   ]
  },
  {
   "cell_type": "code",
   "execution_count": null,
   "id": "fc79c7d7",
   "metadata": {},
   "outputs": [],
   "source": [
    "print(\"Розпочинаємо створювати об'єкти!\")\n",
    "names = (\"Bohdan\", \"Marta\", \"Viktor\", None)\n",
    "all_names = {name: MyName(name) for name in names}\n",
    "for name, me in all_names.items():\n",
    "    print(f'{\" >*< \"*20}')\n",
    "    print(f'This is object: {me}')\n",
    "    print(f'This is object attribute: {me.name} / {me.my_id}')\n",
    "    print(f'This is {type(MyName.whoami)}: {me.whoami} / {me.my_email}')\n",
    "    print(f'This is {type(me.create_email)} call: {me.create_email()}')\n",
    "    print(f'This is static {type(MyName.say_hello)} with defaults: {me.say_hello()}')\n",
    "    print(f'This is class variable {type(MyName.total_names)}: from class {MyName.total_names} / from object {me.total_names}')\n",
    "    print(f'Full name: {me.full_name}')\n",
    "    print(f'Letters in name: {me.count_letters()}')\n",
    "    me.save_to_file()\n",
    "    print(f'{\" <*> \"*20}')\n",
    "print(f'We are done. We create {MyName.total_names} names!')"
   ]
  },
  {
   "cell_type": "markdown",
   "id": "3b1cae05",
   "metadata": {},
   "source": [
    "### Відповіді на питання та індивідуальні завдання\n",
    "1. Якщо ім'я None — створюється об'єкт з іменем Anonymous, бо так працює метод anonymous_user().\n",
    "2. Текст привітання у say_hello() можна змінити: MyName.say_hello('Hi!')\n",
    "3. Кількість букв у імені: метод count_letters().\n",
    "4. Кількість імен у списку names та total_names: різниця через створення об'єкта для None.\n",
    "5. Конструктор завжди робить ім'я з великої літери.\n",
    "6. Метод create_email дозволяє змінювати домен через параметр domain.\n",
    "7. Якщо ім'я містить не лише літери — ValueError.\n",
    "8. Властивість full_name повертає повну інформацію.\n",
    "9. Метод save_to_file додає рядок у файл users.txt."
   ]
  }
 ],
 "metadata": {
  "language_info": {
   "name": "python"
  }
 },
 "nbformat": 4,
 "nbformat_minor": 5
}
